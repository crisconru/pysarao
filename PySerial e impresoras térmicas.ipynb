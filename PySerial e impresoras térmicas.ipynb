{
 "cells": [
  {
   "cell_type": "markdown",
   "metadata": {},
   "source": [
    "# PySerial ~~e Impresoras Térmicas~~\n",
    "\n",
    "\n",
    "## Como usar el USB desde Python para comunicarte con cacharros\n",
    "**PySerial** es un paquete de Python que podemos usar para comunicarnos por los puertos serial de nuestros dispositivos  \n",
    "***¿Y esos cuales son?***  \n",
    "Pues entre otros, el Bus Seria Universal... También llamado, USB.  \n",
    "Es un paquete bastante fácil de usar, así que ¡¡¡vamos al lío!!!  \n",
    "\n",
    "## 1) Instalación\n",
    "Para instalar **PySerial** abrimos nuestra terminal/shell, y lo instalamos con **pip**  \n",
    "`pip install pyserial`  \n",
    "\n",
    "## 2) Importar módulo en nuestro script\n",
    "Hay que tener un poco de detalle aquí, ya que el módulo **PySerial** no se importa haciendo  \n",
    "`import pyserial`  \n",
    "Lo que tenemos es que importar es **serial**  \n",
    "`import serial`  \n",
    "\n",
    "## 3) Abrir comunicación serial por un puerto\n",
    "Una vez importado, lo único que tenemos que hacer es invocar el objeto **Serial** y decirle el puerto por el que tenemos el dispositivo conectado, por ejemplo  \n",
    "`dispositivo = serial.Serial('dev/ttyUSB0')`  \n",
    "\n",
    "El script completo quedaría como"
   ]
  },
  {
   "cell_type": "code",
   "execution_count": 1,
   "metadata": {},
   "outputs": [
    {
     "ename": "SerialException",
     "evalue": "[Errno 2] could not open port dev/ttyUSB0: [Errno 2] No such file or directory: 'dev/ttyUSB0'",
     "output_type": "error",
     "traceback": [
      "\u001b[0;31m---------------------------------------------------------------------------\u001b[0m",
      "\u001b[0;31mFileNotFoundError\u001b[0m                         Traceback (most recent call last)",
      "\u001b[0;32m~/.virtualenvs/jupyter/lib/python3.6/site-packages/serial/serialposix.py\u001b[0m in \u001b[0;36mopen\u001b[0;34m(self)\u001b[0m\n\u001b[1;32m    264\u001b[0m         \u001b[0;32mtry\u001b[0m\u001b[0;34m:\u001b[0m\u001b[0;34m\u001b[0m\u001b[0m\n\u001b[0;32m--> 265\u001b[0;31m             \u001b[0mself\u001b[0m\u001b[0;34m.\u001b[0m\u001b[0mfd\u001b[0m \u001b[0;34m=\u001b[0m \u001b[0mos\u001b[0m\u001b[0;34m.\u001b[0m\u001b[0mopen\u001b[0m\u001b[0;34m(\u001b[0m\u001b[0mself\u001b[0m\u001b[0;34m.\u001b[0m\u001b[0mportstr\u001b[0m\u001b[0;34m,\u001b[0m \u001b[0mos\u001b[0m\u001b[0;34m.\u001b[0m\u001b[0mO_RDWR\u001b[0m \u001b[0;34m|\u001b[0m \u001b[0mos\u001b[0m\u001b[0;34m.\u001b[0m\u001b[0mO_NOCTTY\u001b[0m \u001b[0;34m|\u001b[0m \u001b[0mos\u001b[0m\u001b[0;34m.\u001b[0m\u001b[0mO_NONBLOCK\u001b[0m\u001b[0;34m)\u001b[0m\u001b[0;34m\u001b[0m\u001b[0m\n\u001b[0m\u001b[1;32m    266\u001b[0m         \u001b[0;32mexcept\u001b[0m \u001b[0mOSError\u001b[0m \u001b[0;32mas\u001b[0m \u001b[0mmsg\u001b[0m\u001b[0;34m:\u001b[0m\u001b[0;34m\u001b[0m\u001b[0m\n",
      "\u001b[0;31mFileNotFoundError\u001b[0m: [Errno 2] No such file or directory: 'dev/ttyUSB0'",
      "\nDuring handling of the above exception, another exception occurred:\n",
      "\u001b[0;31mSerialException\u001b[0m                           Traceback (most recent call last)",
      "\u001b[0;32m<ipython-input-1-ad701fd1e7ec>\u001b[0m in \u001b[0;36m<module>\u001b[0;34m()\u001b[0m\n\u001b[1;32m      1\u001b[0m \u001b[0;32mimport\u001b[0m \u001b[0mserial\u001b[0m\u001b[0;34m\u001b[0m\u001b[0m\n\u001b[1;32m      2\u001b[0m \u001b[0;34m\u001b[0m\u001b[0m\n\u001b[0;32m----> 3\u001b[0;31m \u001b[0mdispositivo\u001b[0m \u001b[0;34m=\u001b[0m \u001b[0mserial\u001b[0m\u001b[0;34m.\u001b[0m\u001b[0mSerial\u001b[0m\u001b[0;34m(\u001b[0m\u001b[0;34m'dev/ttyUSB0'\u001b[0m\u001b[0;34m)\u001b[0m\u001b[0;34m\u001b[0m\u001b[0m\n\u001b[0m",
      "\u001b[0;32m~/.virtualenvs/jupyter/lib/python3.6/site-packages/serial/serialutil.py\u001b[0m in \u001b[0;36m__init__\u001b[0;34m(self, port, baudrate, bytesize, parity, stopbits, timeout, xonxoff, rtscts, write_timeout, dsrdtr, inter_byte_timeout, exclusive, **kwargs)\u001b[0m\n\u001b[1;32m    238\u001b[0m \u001b[0;34m\u001b[0m\u001b[0m\n\u001b[1;32m    239\u001b[0m         \u001b[0;32mif\u001b[0m \u001b[0mport\u001b[0m \u001b[0;32mis\u001b[0m \u001b[0;32mnot\u001b[0m \u001b[0;32mNone\u001b[0m\u001b[0;34m:\u001b[0m\u001b[0;34m\u001b[0m\u001b[0m\n\u001b[0;32m--> 240\u001b[0;31m             \u001b[0mself\u001b[0m\u001b[0;34m.\u001b[0m\u001b[0mopen\u001b[0m\u001b[0;34m(\u001b[0m\u001b[0;34m)\u001b[0m\u001b[0;34m\u001b[0m\u001b[0m\n\u001b[0m\u001b[1;32m    241\u001b[0m \u001b[0;34m\u001b[0m\u001b[0m\n\u001b[1;32m    242\u001b[0m     \u001b[0;31m#  -  -  -  -  -  -  -  -  -  -  -  -  -  -  -  -  -  -  -  -  -  -  -  -\u001b[0m\u001b[0;34m\u001b[0m\u001b[0;34m\u001b[0m\u001b[0m\n",
      "\u001b[0;32m~/.virtualenvs/jupyter/lib/python3.6/site-packages/serial/serialposix.py\u001b[0m in \u001b[0;36mopen\u001b[0;34m(self)\u001b[0m\n\u001b[1;32m    266\u001b[0m         \u001b[0;32mexcept\u001b[0m \u001b[0mOSError\u001b[0m \u001b[0;32mas\u001b[0m \u001b[0mmsg\u001b[0m\u001b[0;34m:\u001b[0m\u001b[0;34m\u001b[0m\u001b[0m\n\u001b[1;32m    267\u001b[0m             \u001b[0mself\u001b[0m\u001b[0;34m.\u001b[0m\u001b[0mfd\u001b[0m \u001b[0;34m=\u001b[0m \u001b[0;32mNone\u001b[0m\u001b[0;34m\u001b[0m\u001b[0m\n\u001b[0;32m--> 268\u001b[0;31m             \u001b[0;32mraise\u001b[0m \u001b[0mSerialException\u001b[0m\u001b[0;34m(\u001b[0m\u001b[0mmsg\u001b[0m\u001b[0;34m.\u001b[0m\u001b[0merrno\u001b[0m\u001b[0;34m,\u001b[0m \u001b[0;34m\"could not open port {}: {}\"\u001b[0m\u001b[0;34m.\u001b[0m\u001b[0mformat\u001b[0m\u001b[0;34m(\u001b[0m\u001b[0mself\u001b[0m\u001b[0;34m.\u001b[0m\u001b[0m_port\u001b[0m\u001b[0;34m,\u001b[0m \u001b[0mmsg\u001b[0m\u001b[0;34m)\u001b[0m\u001b[0;34m)\u001b[0m\u001b[0;34m\u001b[0m\u001b[0m\n\u001b[0m\u001b[1;32m    269\u001b[0m         \u001b[0;31m#~ fcntl.fcntl(self.fd, fcntl.F_SETFL, 0)  # set blocking\u001b[0m\u001b[0;34m\u001b[0m\u001b[0;34m\u001b[0m\u001b[0m\n\u001b[1;32m    270\u001b[0m \u001b[0;34m\u001b[0m\u001b[0m\n",
      "\u001b[0;31mSerialException\u001b[0m: [Errno 2] could not open port dev/ttyUSB0: [Errno 2] No such file or directory: 'dev/ttyUSB0'"
     ]
    }
   ],
   "source": [
    "import serial\n",
    "\n",
    "dispositivo = serial.Serial('dev/ttyUSB0')"
   ]
  },
  {
   "cell_type": "markdown",
   "metadata": {},
   "source": [
    "### 3.1) Conocer los Puertos disponibles\n",
    "Hay veces, donde no sabemos que puertos tenemos disponibles, o incluso aunque sepamos el puerto en un sistema operativo, puede que en otro cambie (los puertos en Linux, Mac y Windows son diferentes). Para conocer los puertos tenemos varias opciones.  \n",
    "#### 3.1.1) "
   ]
  },
  {
   "cell_type": "code",
   "execution_count": 12,
   "metadata": {},
   "outputs": [
    {
     "name": "stdout",
     "output_type": "stream",
     "text": [
      "------------------\n",
      "Dispositivo   -> /dev/cu.Bluetooth-Incoming-Port - n/a\n",
      "description   -> n/a\n",
      "device        -> /dev/cu.Bluetooth-Incoming-Port\n",
      "hwid          -> n/a\n",
      "interface     -> None\n",
      "location      -> None\n",
      "manufacturer  -> None\n",
      "name          -> None\n",
      "pid           -> None\n",
      "product       -> None\n",
      "serial number -> None\n",
      "vid           -> None\n",
      "------------------\n",
      "Dispositivo   -> /dev/cu.wchusbserial1410 - USB2.0-Serial\n",
      "description   -> USB2.0-Serial\n",
      "device        -> /dev/cu.wchusbserial1410\n",
      "hwid          -> USB VID:PID=1A86:7523 LOCATION=20-1\n",
      "interface     -> None\n",
      "location      -> 20-1\n",
      "manufacturer  -> None\n",
      "name          -> None\n",
      "pid           -> 29987\n",
      "product       -> USB2.0-Serial\n",
      "serial number -> None\n",
      "vid           -> 6790\n",
      "------------------\n",
      "Dispositivo   -> /dev/cu.usbmodem1421 - Arduino Leonardo\n",
      "description   -> Arduino Leonardo\n",
      "device        -> /dev/cu.usbmodem1421\n",
      "hwid          -> USB VID:PID=2341:8036 LOCATION=20-2\n",
      "interface     -> None\n",
      "location      -> 20-2\n",
      "manufacturer  -> Arduino LLC\n",
      "name          -> None\n",
      "pid           -> 32822\n",
      "product       -> Arduino Leonardo\n",
      "serial number -> None\n",
      "vid           -> 9025\n"
     ]
    }
   ],
   "source": [
    "from serial.tools.list_ports import comports as stlpc\n",
    "\n",
    "for dispositivo in stlpc():\n",
    "    info = '''------------------\n",
    "Dispositivo   -> {}\n",
    "description   -> {}\n",
    "device        -> {}\n",
    "hwid          -> {}\n",
    "interface     -> {}\n",
    "location      -> {}\n",
    "manufacturer  -> {}\n",
    "name          -> {}\n",
    "pid           -> {}\n",
    "product       -> {}\n",
    "serial number -> {}\n",
    "vid           -> {}'''.format(dispositivo, dispositivo.description, dispositivo.device,\n",
    "                              dispositivo.hwid, dispositivo.interface, dispositivo.location,\n",
    "                              dispositivo.manufacturer, dispositivo.name, dispositivo.pid,\n",
    "                              dispositivo.product, dispositivo.serial_number, dispositivo.vid)\n",
    "    print(info)\n",
    "    "
   ]
  },
  {
   "cell_type": "code",
   "execution_count": null,
   "metadata": {},
   "outputs": [],
   "source": []
  },
  {
   "cell_type": "code",
   "execution_count": null,
   "metadata": {},
   "outputs": [],
   "source": []
  },
  {
   "cell_type": "code",
   "execution_count": null,
   "metadata": {},
   "outputs": [],
   "source": []
  }
 ],
 "metadata": {
  "kernelspec": {
   "display_name": "Python 3",
   "language": "python",
   "name": "python3"
  },
  "language_info": {
   "codemirror_mode": {
    "name": "ipython",
    "version": 3
   },
   "file_extension": ".py",
   "mimetype": "text/x-python",
   "name": "python",
   "nbconvert_exporter": "python",
   "pygments_lexer": "ipython3",
   "version": "3.6.2"
  }
 },
 "nbformat": 4,
 "nbformat_minor": 2
}
